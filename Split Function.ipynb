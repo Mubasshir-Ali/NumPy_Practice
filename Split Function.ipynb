{
 "cells": [
  {
   "cell_type": "code",
   "execution_count": 1,
   "metadata": {},
   "outputs": [],
   "source": [
    "import numpy as np"
   ]
  },
  {
   "cell_type": "code",
   "execution_count": 2,
   "metadata": {},
   "outputs": [],
   "source": [
    "# create list\n",
    "x = [1,4,5,6,7,8,1,4]"
   ]
  },
  {
   "cell_type": "code",
   "execution_count": 3,
   "metadata": {},
   "outputs": [],
   "source": [
    "# convert list in array\n",
    "d = np.array(x)"
   ]
  },
  {
   "cell_type": "code",
   "execution_count": 5,
   "metadata": {},
   "outputs": [
    {
     "data": {
      "text/plain": [
       "[array([1, 4]), array([5, 6, 7]), array([8, 1, 4])]"
      ]
     },
     "execution_count": 5,
     "metadata": {},
     "output_type": "execute_result"
    }
   ],
   "source": [
    "# d is array\n",
    "# in list we pass the positions (2,5) at which we want to split the array\n",
    "np.split(d,[2,5])"
   ]
  },
  {
   "cell_type": "code",
   "execution_count": 6,
   "metadata": {},
   "outputs": [
    {
     "data": {
      "text/plain": [
       "[array([1, 4, 5]), array([6, 7, 8]), array([1, 4])]"
      ]
     },
     "execution_count": 6,
     "metadata": {},
     "output_type": "execute_result"
    }
   ],
   "source": [
    "# d is array\n",
    "# in list we pass the positions (3,6) at which we want to split the array\n",
    "np.split(d,[3,6])"
   ]
  },
  {
   "cell_type": "code",
   "execution_count": 7,
   "metadata": {},
   "outputs": [
    {
     "data": {
      "text/plain": [
       "[array([1, 4]), array([5, 6, 7, 8]), array([1, 4])]"
      ]
     },
     "execution_count": 7,
     "metadata": {},
     "output_type": "execute_result"
    }
   ],
   "source": [
    "# d is array\n",
    "# in list we pass the positions (2,6) at which we want to split the array\n",
    "np.split(d,[2,6])"
   ]
  },
  {
   "cell_type": "code",
   "execution_count": 8,
   "metadata": {},
   "outputs": [
    {
     "data": {
      "text/plain": [
       "[array([1, 4]), array([5, 6]), array([7, 8]), array([1, 4])]"
      ]
     },
     "execution_count": 8,
     "metadata": {},
     "output_type": "execute_result"
    }
   ],
   "source": [
    "# d is array\n",
    "# in list we pass the positions (2,4,6) at which we want to split the array\n",
    "np.split(d,[2,4,6])"
   ]
  },
  {
   "cell_type": "code",
   "execution_count": 9,
   "metadata": {},
   "outputs": [
    {
     "data": {
      "text/plain": [
       "[array([1]), array([4, 5]), array([6, 7]), array([8, 1]), array([4])]"
      ]
     },
     "execution_count": 9,
     "metadata": {},
     "output_type": "execute_result"
    }
   ],
   "source": [
    "# d is array\n",
    "# in list we pass the positions (1,3,5,7) at which we want to split the array\n",
    "np.split(d,[1,3,5,7])"
   ]
  },
  {
   "cell_type": "code",
   "execution_count": 10,
   "metadata": {},
   "outputs": [],
   "source": [
    "# create list\n",
    "x = [[1,4,5,6,7,8,1,4],\n",
    "     [11,14,15,16,17,18,11,14]]"
   ]
  },
  {
   "cell_type": "code",
   "execution_count": 11,
   "metadata": {},
   "outputs": [
    {
     "data": {
      "text/plain": [
       "array([[ 1,  4,  5,  6,  7,  8,  1,  4],\n",
       "       [11, 14, 15, 16, 17, 18, 11, 14]])"
      ]
     },
     "execution_count": 11,
     "metadata": {},
     "output_type": "execute_result"
    }
   ],
   "source": [
    "d = np.array(x)\n",
    "d"
   ]
  },
  {
   "cell_type": "code",
   "execution_count": 12,
   "metadata": {},
   "outputs": [
    {
     "data": {
      "text/plain": [
       "[array([[ 1,  4,  5,  6],\n",
       "        [11, 14, 15, 16]]),\n",
       " array([[ 7,  8],\n",
       "        [17, 18]]),\n",
       " array([[ 1,  4],\n",
       "        [11, 14]])]"
      ]
     },
     "execution_count": 12,
     "metadata": {},
     "output_type": "execute_result"
    }
   ],
   "source": [
    "# column wise split because using axis = 1\n",
    "np.split(d,[4,6], axis = 1)"
   ]
  },
  {
   "cell_type": "code",
   "execution_count": 16,
   "metadata": {},
   "outputs": [
    {
     "data": {
      "text/plain": [
       "[array([[ 1,  4,  5],\n",
       "        [11, 14, 15]]),\n",
       " array([[ 6,  7,  8],\n",
       "        [16, 17, 18]]),\n",
       " array([[ 1],\n",
       "        [11]]),\n",
       " array([[ 4],\n",
       "        [14]])]"
      ]
     },
     "execution_count": 16,
     "metadata": {},
     "output_type": "execute_result"
    }
   ],
   "source": [
    "# column wise split because using axis = 1\n",
    "np.split(d,[3,6,7], axis = 1)"
   ]
  },
  {
   "cell_type": "code",
   "execution_count": 13,
   "metadata": {},
   "outputs": [
    {
     "data": {
      "text/plain": [
       "[array([[ 1,  4,  5,  6,  7,  8,  1,  4],\n",
       "        [11, 14, 15, 16, 17, 18, 11, 14]]),\n",
       " array([], shape=(0, 8), dtype=int32),\n",
       " array([], shape=(0, 8), dtype=int32)]"
      ]
     },
     "execution_count": 13,
     "metadata": {},
     "output_type": "execute_result"
    }
   ],
   "source": [
    "# row wise split because using axis = 0\n",
    "np.split(d,[4,6], axis = 0)"
   ]
  },
  {
   "cell_type": "code",
   "execution_count": 17,
   "metadata": {},
   "outputs": [
    {
     "data": {
      "text/plain": [
       "[array([[ 1,  4,  5,  6,  7,  8,  1,  4],\n",
       "        [11, 14, 15, 16, 17, 18, 11, 14]]),\n",
       " array([], shape=(0, 8), dtype=int32),\n",
       " array([], shape=(0, 8), dtype=int32),\n",
       " array([], shape=(0, 8), dtype=int32)]"
      ]
     },
     "execution_count": 17,
     "metadata": {},
     "output_type": "execute_result"
    }
   ],
   "source": [
    "# row wise split because using axis = 0\n",
    "np.split(d,[2,4,6], axis = 0)"
   ]
  },
  {
   "cell_type": "code",
   "execution_count": 18,
   "metadata": {},
   "outputs": [
    {
     "data": {
      "text/plain": [
       "[array([[1, 4, 5, 6, 7, 8, 1, 4]]), array([[11, 14, 15, 16, 17, 18, 11, 14]])]"
      ]
     },
     "execution_count": 18,
     "metadata": {},
     "output_type": "execute_result"
    }
   ],
   "source": [
    "# row wise split because using axis = 0\n",
    "np.split(d,[1], axis = 0)"
   ]
  },
  {
   "cell_type": "code",
   "execution_count": 21,
   "metadata": {},
   "outputs": [],
   "source": [
    "# create list\n",
    "y = [[1,4,5,6,7,8,1,4],[21,24,25,26,27,28,21,24],[[31,34,35,36,37,38,31,34],[11,14,15,16,17,18,11,14]]]"
   ]
  },
  {
   "cell_type": "code",
   "execution_count": 22,
   "metadata": {},
   "outputs": [
    {
     "data": {
      "text/plain": [
       "array([list([1, 4, 5, 6, 7, 8, 1, 4]),\n",
       "       list([21, 24, 25, 26, 27, 28, 21, 24]),\n",
       "       list([[31, 34, 35, 36, 37, 38, 31, 34], [11, 14, 15, 16, 17, 18, 11, 14]])],\n",
       "      dtype=object)"
      ]
     },
     "execution_count": 22,
     "metadata": {},
     "output_type": "execute_result"
    }
   ],
   "source": [
    "e = np.array(y)\n",
    "e"
   ]
  },
  {
   "cell_type": "code",
   "execution_count": 23,
   "metadata": {},
   "outputs": [
    {
     "data": {
      "text/plain": [
       "[array([[1, 4, 5, 6, 7, 8, 1, 4]]), array([[11, 14, 15, 16, 17, 18, 11, 14]])]"
      ]
     },
     "execution_count": 23,
     "metadata": {},
     "output_type": "execute_result"
    }
   ],
   "source": [
    "# row wise split because using axis = 0\n",
    "np.split(d,[1], axis = 0)"
   ]
  },
  {
   "cell_type": "code",
   "execution_count": 24,
   "metadata": {},
   "outputs": [
    {
     "data": {
      "text/plain": [
       "[array([[ 1,  4,  5,  6,  7,  8,  1,  4],\n",
       "        [11, 14, 15, 16, 17, 18, 11, 14]]),\n",
       " array([], shape=(0, 8), dtype=int32),\n",
       " array([], shape=(0, 8), dtype=int32),\n",
       " array([], shape=(0, 8), dtype=int32)]"
      ]
     },
     "execution_count": 24,
     "metadata": {},
     "output_type": "execute_result"
    }
   ],
   "source": [
    "# row wise split because using axis = 0\n",
    "np.split(d,[3,5,7], axis = 0)"
   ]
  },
  {
   "cell_type": "code",
   "execution_count": 25,
   "metadata": {},
   "outputs": [
    {
     "data": {
      "text/plain": [
       "[array([[1, 4, 5, 6, 7, 8, 1, 4]]), array([[11, 14, 15, 16, 17, 18, 11, 14]])]"
      ]
     },
     "execution_count": 25,
     "metadata": {},
     "output_type": "execute_result"
    }
   ],
   "source": [
    "# row wise split because using vsplit\n",
    "np.vsplit(d,[1])"
   ]
  },
  {
   "cell_type": "code",
   "execution_count": 26,
   "metadata": {},
   "outputs": [
    {
     "data": {
      "text/plain": [
       "[array([[ 1],\n",
       "        [11]]),\n",
       " array([[ 4,  5,  6,  7,  8,  1,  4],\n",
       "        [14, 15, 16, 17, 18, 11, 14]])]"
      ]
     },
     "execution_count": 26,
     "metadata": {},
     "output_type": "execute_result"
    }
   ],
   "source": [
    "# column wise split because using hsplit\n",
    "np.hsplit(d,[1])"
   ]
  },
  {
   "cell_type": "code",
   "execution_count": 28,
   "metadata": {},
   "outputs": [
    {
     "data": {
      "text/plain": [
       "[array([[ 1,  4],\n",
       "        [11, 14]]),\n",
       " array([[ 5,  6,  7],\n",
       "        [15, 16, 17]]),\n",
       " array([[ 8,  1],\n",
       "        [18, 11]]),\n",
       " array([[ 4],\n",
       "        [14]])]"
      ]
     },
     "execution_count": 28,
     "metadata": {},
     "output_type": "execute_result"
    }
   ],
   "source": [
    "# column wise split because using hsplit\n",
    "np.hsplit(d,[2,5,7])"
   ]
  },
  {
   "cell_type": "code",
   "execution_count": 29,
   "metadata": {},
   "outputs": [
    {
     "data": {
      "text/plain": [
       "[array([[ 1,  4],\n",
       "        [11, 14]]),\n",
       " array([[ 5,  6,  7],\n",
       "        [15, 16, 17]]),\n",
       " array([[ 8,  1,  4],\n",
       "        [18, 11, 14]]),\n",
       " array([], shape=(2, 0), dtype=int32)]"
      ]
     },
     "execution_count": 29,
     "metadata": {},
     "output_type": "execute_result"
    }
   ],
   "source": [
    "# column wise split because using hsplit\n",
    "np.hsplit(d,[2,5,8])"
   ]
  },
  {
   "cell_type": "code",
   "execution_count": null,
   "metadata": {},
   "outputs": [],
   "source": []
  }
 ],
 "metadata": {
  "kernelspec": {
   "display_name": "Python 3",
   "language": "python",
   "name": "python3"
  },
  "language_info": {
   "codemirror_mode": {
    "name": "ipython",
    "version": 3
   },
   "file_extension": ".py",
   "mimetype": "text/x-python",
   "name": "python",
   "nbconvert_exporter": "python",
   "pygments_lexer": "ipython3",
   "version": "3.7.7"
  }
 },
 "nbformat": 4,
 "nbformat_minor": 4
}
