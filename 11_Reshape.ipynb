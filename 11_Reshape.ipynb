{
 "cells": [
  {
   "cell_type": "code",
   "execution_count": 1,
   "metadata": {},
   "outputs": [],
   "source": [
    "import numpy as np"
   ]
  },
  {
   "cell_type": "code",
   "execution_count": 2,
   "metadata": {},
   "outputs": [
    {
     "data": {
      "text/plain": [
       "array([[-1.00457765,  0.64840426, -0.01249234, -0.91908869, -1.80416875],\n",
       "       [-0.74701292,  1.02821182, -1.63043528,  1.51895858,  0.37032761],\n",
       "       [ 1.76488433,  0.39637097,  0.44189838,  0.66212968,  1.80096762],\n",
       "       [ 0.92879312,  0.54338013,  1.06918668,  0.11266993, -0.08472738]])"
      ]
     },
     "execution_count": 2,
     "metadata": {},
     "output_type": "execute_result"
    }
   ],
   "source": [
    "# create 4 by 5 array\n",
    "x = np.random.randn(4,5)\n",
    "x"
   ]
  },
  {
   "cell_type": "code",
   "execution_count": 3,
   "metadata": {},
   "outputs": [
    {
     "data": {
      "text/plain": [
       "array([[[-1.00457765,  0.64840426, -0.01249234, -0.91908869,\n",
       "         -1.80416875],\n",
       "        [-0.74701292,  1.02821182, -1.63043528,  1.51895858,\n",
       "          0.37032761]],\n",
       "\n",
       "       [[ 1.76488433,  0.39637097,  0.44189838,  0.66212968,\n",
       "          1.80096762],\n",
       "        [ 0.92879312,  0.54338013,  1.06918668,  0.11266993,\n",
       "         -0.08472738]]])"
      ]
     },
     "execution_count": 3,
     "metadata": {},
     "output_type": "execute_result"
    }
   ],
   "source": [
    "# Reshape array 1st dimension 2, 2nd dimension 2, 3rd dimension 5\n",
    "# By default show row major order\n",
    "x.reshape((2,2,5))"
   ]
  },
  {
   "cell_type": "code",
   "execution_count": 4,
   "metadata": {},
   "outputs": [
    {
     "data": {
      "text/plain": [
       "array([[[-1.00457765,  0.64840426, -0.01249234, -0.91908869,\n",
       "         -1.80416875],\n",
       "        [ 1.76488433,  0.39637097,  0.44189838,  0.66212968,\n",
       "          1.80096762]],\n",
       "\n",
       "       [[-0.74701292,  1.02821182, -1.63043528,  1.51895858,\n",
       "          0.37032761],\n",
       "        [ 0.92879312,  0.54338013,  1.06918668,  0.11266993,\n",
       "         -0.08472738]]])"
      ]
     },
     "execution_count": 4,
     "metadata": {},
     "output_type": "execute_result"
    }
   ],
   "source": [
    "# Reshape column major order\n",
    "x.reshape((2,2,5), order = 'F')"
   ]
  },
  {
   "cell_type": "code",
   "execution_count": 5,
   "metadata": {},
   "outputs": [
    {
     "data": {
      "text/plain": [
       "array([[[-1.00457765,  0.64840426, -0.01249234, -0.91908869,\n",
       "         -1.80416875],\n",
       "        [-0.74701292,  1.02821182, -1.63043528,  1.51895858,\n",
       "          0.37032761]],\n",
       "\n",
       "       [[ 1.76488433,  0.39637097,  0.44189838,  0.66212968,\n",
       "          1.80096762],\n",
       "        [ 0.92879312,  0.54338013,  1.06918668,  0.11266993,\n",
       "         -0.08472738]]])"
      ]
     },
     "execution_count": 5,
     "metadata": {},
     "output_type": "execute_result"
    }
   ],
   "source": [
    "# Reshape array and skip 1 dimention\n",
    "x.reshape((2,2,-1))"
   ]
  },
  {
   "cell_type": "code",
   "execution_count": 6,
   "metadata": {},
   "outputs": [
    {
     "data": {
      "text/plain": [
       "array([[-1.00457765,  0.64840426, -0.01249234, -0.91908869, -1.80416875],\n",
       "       [-0.74701292,  1.02821182, -1.63043528,  1.51895858,  0.37032761],\n",
       "       [ 1.76488433,  0.39637097,  0.44189838,  0.66212968,  1.80096762],\n",
       "       [ 0.92879312,  0.54338013,  1.06918668,  0.11266993, -0.08472738]])"
      ]
     },
     "execution_count": 6,
     "metadata": {},
     "output_type": "execute_result"
    }
   ],
   "source": [
    "x"
   ]
  },
  {
   "cell_type": "code",
   "execution_count": 7,
   "metadata": {},
   "outputs": [
    {
     "data": {
      "text/plain": [
       "array([-1.00457765,  0.64840426, -0.01249234, -0.91908869, -1.80416875,\n",
       "       -0.74701292,  1.02821182, -1.63043528,  1.51895858,  0.37032761,\n",
       "        1.76488433,  0.39637097,  0.44189838,  0.66212968,  1.80096762,\n",
       "        0.92879312,  0.54338013,  1.06918668,  0.11266993, -0.08472738])"
      ]
     },
     "execution_count": 7,
     "metadata": {},
     "output_type": "execute_result"
    }
   ],
   "source": [
    "# convert array x in 1 dimention array\n",
    "x.ravel()"
   ]
  },
  {
   "cell_type": "code",
   "execution_count": 8,
   "metadata": {},
   "outputs": [
    {
     "data": {
      "text/plain": [
       "array([-1.00457765,  0.64840426, -0.01249234, -0.91908869, -1.80416875,\n",
       "       -0.74701292,  1.02821182, -1.63043528,  1.51895858,  0.37032761,\n",
       "        1.76488433,  0.39637097,  0.44189838,  0.66212968,  1.80096762,\n",
       "        0.92879312,  0.54338013,  1.06918668,  0.11266993, -0.08472738])"
      ]
     },
     "execution_count": 8,
     "metadata": {},
     "output_type": "execute_result"
    }
   ],
   "source": [
    "# convert array x in 1 dimention array\n",
    "x.flatten()"
   ]
  },
  {
   "cell_type": "code",
   "execution_count": null,
   "metadata": {},
   "outputs": [],
   "source": []
  }
 ],
 "metadata": {
  "kernelspec": {
   "display_name": "Python 3",
   "language": "python",
   "name": "python3"
  },
  "language_info": {
   "codemirror_mode": {
    "name": "ipython",
    "version": 3
   },
   "file_extension": ".py",
   "mimetype": "text/x-python",
   "name": "python",
   "nbconvert_exporter": "python",
   "pygments_lexer": "ipython3",
   "version": "3.7.7"
  }
 },
 "nbformat": 4,
 "nbformat_minor": 4
}
