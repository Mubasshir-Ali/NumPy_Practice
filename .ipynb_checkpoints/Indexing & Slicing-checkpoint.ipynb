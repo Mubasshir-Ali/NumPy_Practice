{
 "cells": [
  {
   "cell_type": "code",
   "execution_count": 1,
   "metadata": {},
   "outputs": [],
   "source": [
    "import numpy as np"
   ]
  },
  {
   "cell_type": "markdown",
   "metadata": {},
   "source": [
    "# Indexing"
   ]
  },
  {
   "cell_type": "code",
   "execution_count": 2,
   "metadata": {},
   "outputs": [],
   "source": [
    "x = np.array([1,7,9,8,5])"
   ]
  },
  {
   "cell_type": "code",
   "execution_count": 3,
   "metadata": {},
   "outputs": [
    {
     "data": {
      "text/plain": [
       "5"
      ]
     },
     "execution_count": 3,
     "metadata": {},
     "output_type": "execute_result"
    }
   ],
   "source": [
    "x[4]"
   ]
  },
  {
   "cell_type": "code",
   "execution_count": 4,
   "metadata": {},
   "outputs": [
    {
     "data": {
      "text/plain": [
       "array([7, 9, 8])"
      ]
     },
     "execution_count": 4,
     "metadata": {},
     "output_type": "execute_result"
    }
   ],
   "source": [
    "# Boolean indexing\n",
    "x[x > 5]"
   ]
  },
  {
   "cell_type": "code",
   "execution_count": 6,
   "metadata": {},
   "outputs": [
    {
     "data": {
      "text/plain": [
       "array([9, 7])"
      ]
     },
     "execution_count": 6,
     "metadata": {},
     "output_type": "execute_result"
    }
   ],
   "source": [
    "# Fancy indexing\n",
    "x[[2,1]]"
   ]
  },
  {
   "cell_type": "markdown",
   "metadata": {},
   "source": [
    "# Slicing"
   ]
  },
  {
   "cell_type": "code",
   "execution_count": 7,
   "metadata": {},
   "outputs": [
    {
     "data": {
      "text/plain": [
       "array([[5.29894236e-01, 7.92208085e-01, 8.11747592e-01, 5.08433566e-02,\n",
       "        4.01364909e-01, 2.82464268e-01, 4.32860991e-01, 1.77944694e-01,\n",
       "        2.54181039e-01, 7.35917602e-01],\n",
       "       [2.19488179e-01, 1.73008566e-01, 1.23615438e-01, 3.29362848e-01,\n",
       "        4.46361679e-01, 4.88970752e-03, 2.22045700e-01, 3.75756694e-01,\n",
       "        8.49970987e-02, 5.19936663e-01],\n",
       "       [5.34862925e-01, 9.42297097e-01, 5.48012470e-01, 6.63513963e-01,\n",
       "        4.73082791e-01, 6.09747420e-01, 6.93803018e-01, 4.96848032e-01,\n",
       "        8.04619302e-01, 8.54207781e-01],\n",
       "       [1.31090966e-01, 2.77933705e-01, 4.06657674e-01, 5.74259259e-01,\n",
       "        5.07353114e-01, 9.53590505e-01, 2.08131630e-02, 2.88406158e-01,\n",
       "        7.48287337e-02, 4.26675979e-01],\n",
       "       [6.79256721e-01, 8.94687344e-01, 1.89165156e-01, 6.95105081e-01,\n",
       "        7.50030100e-01, 8.06540925e-01, 6.04729930e-01, 6.22864755e-01,\n",
       "        4.68838162e-01, 8.90202497e-01],\n",
       "       [8.31308679e-02, 3.83283775e-01, 9.76606462e-01, 4.52716155e-01,\n",
       "        3.60329040e-01, 9.39599650e-01, 6.32464381e-01, 5.53383200e-01,\n",
       "        2.98174691e-01, 5.41116620e-02],\n",
       "       [5.11076112e-01, 2.40848785e-01, 3.60078346e-01, 4.29664593e-01,\n",
       "        9.08092345e-01, 1.36851374e-01, 4.48938361e-01, 1.47253787e-01,\n",
       "        5.56363915e-01, 7.61626680e-01],\n",
       "       [4.29026989e-01, 9.32693459e-01, 7.92799960e-01, 7.33504091e-03,\n",
       "        5.83401049e-01, 4.83683937e-01, 3.29163975e-02, 7.05874510e-01,\n",
       "        8.57731653e-01, 2.01563381e-01],\n",
       "       [8.62545295e-01, 2.61235702e-01, 5.69000350e-01, 1.88978191e-01,\n",
       "        1.03655198e-01, 9.40625160e-01, 1.18093366e-01, 9.15978677e-01,\n",
       "        5.12321313e-01, 3.44807113e-01],\n",
       "       [1.32002194e-04, 8.98724748e-01, 7.00495916e-02, 4.87766378e-01,\n",
       "        7.35241294e-01, 3.26337230e-01, 5.86219924e-02, 4.95595711e-01,\n",
       "        8.32153690e-01, 3.01751538e-01]])"
      ]
     },
     "execution_count": 7,
     "metadata": {},
     "output_type": "execute_result"
    }
   ],
   "source": [
    "x = np.random.rand(10,10)\n",
    "x"
   ]
  },
  {
   "cell_type": "code",
   "execution_count": 8,
   "metadata": {},
   "outputs": [
    {
     "data": {
      "text/plain": [
       "array([0.52989424, 0.79220809, 0.81174759, 0.05084336, 0.40136491,\n",
       "       0.28246427, 0.43286099, 0.17794469, 0.25418104, 0.7359176 ])"
      ]
     },
     "execution_count": 8,
     "metadata": {},
     "output_type": "execute_result"
    }
   ],
   "source": [
    "# pick 1st row\n",
    "x[0]"
   ]
  },
  {
   "cell_type": "code",
   "execution_count": 9,
   "metadata": {},
   "outputs": [
    {
     "data": {
      "text/plain": [
       "0.4013649094183672"
      ]
     },
     "execution_count": 9,
     "metadata": {},
     "output_type": "execute_result"
    }
   ],
   "source": [
    "# pick in 1st row 5th element\n",
    "x[0][4]"
   ]
  },
  {
   "cell_type": "code",
   "execution_count": 10,
   "metadata": {},
   "outputs": [
    {
     "data": {
      "text/plain": [
       "array([[2.19488179e-01, 1.73008566e-01, 1.23615438e-01, 3.29362848e-01,\n",
       "        4.46361679e-01, 4.88970752e-03, 2.22045700e-01, 3.75756694e-01,\n",
       "        8.49970987e-02, 5.19936663e-01],\n",
       "       [1.31090966e-01, 2.77933705e-01, 4.06657674e-01, 5.74259259e-01,\n",
       "        5.07353114e-01, 9.53590505e-01, 2.08131630e-02, 2.88406158e-01,\n",
       "        7.48287337e-02, 4.26675979e-01],\n",
       "       [8.31308679e-02, 3.83283775e-01, 9.76606462e-01, 4.52716155e-01,\n",
       "        3.60329040e-01, 9.39599650e-01, 6.32464381e-01, 5.53383200e-01,\n",
       "        2.98174691e-01, 5.41116620e-02],\n",
       "       [4.29026989e-01, 9.32693459e-01, 7.92799960e-01, 7.33504091e-03,\n",
       "        5.83401049e-01, 4.83683937e-01, 3.29163975e-02, 7.05874510e-01,\n",
       "        8.57731653e-01, 2.01563381e-01],\n",
       "       [1.32002194e-04, 8.98724748e-01, 7.00495916e-02, 4.87766378e-01,\n",
       "        7.35241294e-01, 3.26337230e-01, 5.86219924e-02, 4.95595711e-01,\n",
       "        8.32153690e-01, 3.01751538e-01]])"
      ]
     },
     "execution_count": 10,
     "metadata": {},
     "output_type": "execute_result"
    }
   ],
   "source": [
    "# pick odd rows\n",
    "x[1:10:2]"
   ]
  },
  {
   "cell_type": "code",
   "execution_count": 11,
   "metadata": {},
   "outputs": [
    {
     "data": {
      "text/plain": [
       "array([[2.19488179e-01, 1.73008566e-01, 1.23615438e-01, 3.29362848e-01,\n",
       "        4.46361679e-01, 4.88970752e-03, 2.22045700e-01, 3.75756694e-01,\n",
       "        8.49970987e-02, 5.19936663e-01],\n",
       "       [1.31090966e-01, 2.77933705e-01, 4.06657674e-01, 5.74259259e-01,\n",
       "        5.07353114e-01, 9.53590505e-01, 2.08131630e-02, 2.88406158e-01,\n",
       "        7.48287337e-02, 4.26675979e-01],\n",
       "       [8.31308679e-02, 3.83283775e-01, 9.76606462e-01, 4.52716155e-01,\n",
       "        3.60329040e-01, 9.39599650e-01, 6.32464381e-01, 5.53383200e-01,\n",
       "        2.98174691e-01, 5.41116620e-02],\n",
       "       [4.29026989e-01, 9.32693459e-01, 7.92799960e-01, 7.33504091e-03,\n",
       "        5.83401049e-01, 4.83683937e-01, 3.29163975e-02, 7.05874510e-01,\n",
       "        8.57731653e-01, 2.01563381e-01],\n",
       "       [1.32002194e-04, 8.98724748e-01, 7.00495916e-02, 4.87766378e-01,\n",
       "        7.35241294e-01, 3.26337230e-01, 5.86219924e-02, 4.95595711e-01,\n",
       "        8.32153690e-01, 3.01751538e-01]])"
      ]
     },
     "execution_count": 11,
     "metadata": {},
     "output_type": "execute_result"
    }
   ],
   "source": [
    "# pick odd rows and pick whole rows and column then we write this (,::)\n",
    "x[1:10:2,::]"
   ]
  },
  {
   "cell_type": "code",
   "execution_count": 12,
   "metadata": {},
   "outputs": [
    {
     "data": {
      "text/plain": [
       "array([[5.29894236e-01, 7.92208085e-01, 8.11747592e-01, 5.08433566e-02],\n",
       "       [2.19488179e-01, 1.73008566e-01, 1.23615438e-01, 3.29362848e-01],\n",
       "       [5.34862925e-01, 9.42297097e-01, 5.48012470e-01, 6.63513963e-01],\n",
       "       [1.31090966e-01, 2.77933705e-01, 4.06657674e-01, 5.74259259e-01],\n",
       "       [6.79256721e-01, 8.94687344e-01, 1.89165156e-01, 6.95105081e-01],\n",
       "       [8.31308679e-02, 3.83283775e-01, 9.76606462e-01, 4.52716155e-01],\n",
       "       [5.11076112e-01, 2.40848785e-01, 3.60078346e-01, 4.29664593e-01],\n",
       "       [4.29026989e-01, 9.32693459e-01, 7.92799960e-01, 7.33504091e-03],\n",
       "       [8.62545295e-01, 2.61235702e-01, 5.69000350e-01, 1.88978191e-01],\n",
       "       [1.32002194e-04, 8.98724748e-01, 7.00495916e-02, 4.87766378e-01]])"
      ]
     },
     "execution_count": 12,
     "metadata": {},
     "output_type": "execute_result"
    }
   ],
   "source": [
    "# pick firts 4 column (0:4) and whole rows(::)\n",
    "x[::,0:4]"
   ]
  },
  {
   "cell_type": "code",
   "execution_count": 13,
   "metadata": {},
   "outputs": [
    {
     "data": {
      "text/plain": [
       "array([[1., 1., 1., 1., 1.],\n",
       "       [1., 1., 1., 1., 1.],\n",
       "       [1., 1., 1., 1., 1.],\n",
       "       [1., 1., 1., 1., 1.],\n",
       "       [1., 1., 1., 1., 1.]])"
      ]
     },
     "execution_count": 13,
     "metadata": {},
     "output_type": "execute_result"
    }
   ],
   "source": [
    "# create example whole boarder is 1 and internal whole 0\n",
    "# first we create numpy array that display whole 1\n",
    "x = np.ones((5,5))\n",
    "x"
   ]
  },
  {
   "cell_type": "code",
   "execution_count": 15,
   "metadata": {},
   "outputs": [
    {
     "data": {
      "text/plain": [
       "array([[1., 1., 1., 1., 1.],\n",
       "       [1., 0., 0., 0., 1.],\n",
       "       [1., 0., 0., 0., 1.],\n",
       "       [1., 0., 0., 0., 1.],\n",
       "       [1., 1., 1., 1., 1.]])"
      ]
     },
     "execution_count": 15,
     "metadata": {},
     "output_type": "execute_result"
    }
   ],
   "source": [
    "# fill 0 internally\n",
    "x[1:-1,1:-1] = 0\n",
    "x"
   ]
  },
  {
   "cell_type": "code",
   "execution_count": null,
   "metadata": {},
   "outputs": [],
   "source": []
  }
 ],
 "metadata": {
  "kernelspec": {
   "display_name": "Python 3",
   "language": "python",
   "name": "python3"
  },
  "language_info": {
   "codemirror_mode": {
    "name": "ipython",
    "version": 3
   },
   "file_extension": ".py",
   "mimetype": "text/x-python",
   "name": "python",
   "nbconvert_exporter": "python",
   "pygments_lexer": "ipython3",
   "version": "3.7.7"
  }
 },
 "nbformat": 4,
 "nbformat_minor": 4
}
